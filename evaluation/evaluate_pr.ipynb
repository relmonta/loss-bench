{
 "cells": [
  {
   "cell_type": "markdown",
   "id": "5223edf5",
   "metadata": {},
   "source": [
    "# Evaluation\n",
    "Click the button below to run this notebook on Google Colab.\n",
    "\n",
    "[![Open In Colab](https://colab.research.google.com/assets/colab-badge.svg)](https://colab.research.google.com/github/relmonta/loss-bench/blob/main/evaluation/evaluate_pr.ipynb)"
   ]
  },
  {
   "cell_type": "code",
   "execution_count": null,
   "id": "2bccdd81",
   "metadata": {
    "vscode": {
     "languageId": "plaintext"
    }
   },
   "outputs": [],
   "source": [
    "# If you are using google colab clone the github repository\n",
    "try:\n",
    "    %cd /content/\n",
    "    import google.colab\n",
    "    ! git clone https://github.com/relmonta/loss-bench.git\n",
    "    %cd loss-bench\n",
    "except:\n",
    "    pass\n",
    "# Assuming you are in the root directory of the repository\n",
    "!pip install -r requirements.txt"
   ]
  },
  {
   "cell_type": "code",
   "execution_count": null,
   "id": "0b2a016b",
   "metadata": {
    "vscode": {
     "languageId": "plaintext"
    }
   },
   "outputs": [],
   "source": [
    "try:\n",
    "    import google.colab\n",
    "    %cd /content/loss-bench\n",
    "except:\n",
    "    # Assuming you are in the root directory of the repository\n",
    "    pass\n",
    "import os\n",
    "import yaml\n",
    "import pandas as pd\n",
    "from evaluation.evaluate_pr_utils import *\n",
    "from evaluation.utils import plot_qq, plot_distributions, plot_event_full, plot_event_zoom, plot_power_spectra\n",
    "from evaluation.evaluator import Evaluator"
   ]
  },
  {
   "cell_type": "code",
   "execution_count": null,
   "id": "bd12fa67",
   "metadata": {
    "vscode": {
     "languageId": "plaintext"
    }
   },
   "outputs": [],
   "source": [
    "if torch.cuda.is_available():\n",
    "    print(\"You are good to go !\")\n",
    "else:\n",
    "    print(\"You are not using a GPU. Please check your Google Colab execution setup\")"
   ]
  },
  {
   "cell_type": "code",
   "execution_count": null,
   "id": "3393bb8c",
   "metadata": {
    "vscode": {
     "languageId": "plaintext"
    }
   },
   "outputs": [],
   "source": [
    "class EvaluatorPr(Evaluator):\n",
    "    def __init__(self, experiments, config_path, var_name, comparison_title,\n",
    "                 metrics=None, start_date=\"2020-01-01\", end_date=\"2020-12-31\", start_date_plot=None, end_date_plot=None, overwrite=False, figformat=\"png\"):\n",
    "        super().__init__(experiments, config_path, var_name, comparison_title,\n",
    "                         metrics, start_date, end_date, start_date_plot, end_date_plot, overwrite, figformat)\n",
    "\n",
    "    def save_metrics_summary(self):\n",
    "        # Draw temporal evolution, spectrum, etc.\n",
    "        # Dataframe with metrics for each experiment\n",
    "        self.df = pd.DataFrame.from_dict(self.results, orient='index')\n",
    "        self.df.index.name = 'Model'\n",
    "        self.df.to_csv(os.path.join(self.plot_path,\n",
    "                  'metrics_summary.csv'), float_format='%.3f')\n",
    "        print(\n",
    "            f\"Saved {os.path.join(self.plot_path, 'metrics_summary.csv')}\")\n",
    "\n",
    "    def plot_temporal_evolution(self):\n",
    "        plot_temporal_evolution(self.plot_path, self.y_preds, self.y_true,\n",
    "                                self.experiments, self.exp_names, self.common_data['dates'], self.start_date_plot, self.end_date_plot, self.colors_dict, figformat=self.figformat)\n",
    "    \n",
    "    def plot_power_spectra(self):\n",
    "        plot_power_spectra(self.plot_path, self.y_preds, self.y_true,\n",
    "                                               self.experiments, self.exp_names, self.line_styles, self.colors_dict, figformat=self.figformat)\n",
    "\n",
    "    def plot_event_zoom(self):\n",
    "        plot_event_zoom(self.plot_path, self.y_preds, self.y_true,\n",
    "                        self.experiments, self.exp_names, self.common_data, variable=\"pr\", title=\"Precipitation\", label=r\"Precipitation [mm.day$^{-1}$]\", figformat=self.figformat, zoom_extent=[-6, 24, 35, 52], sel_criteria=[\"2020-03-02\"])\n",
    "\n",
    "    def plot_event_full(self):\n",
    "        plot_event_full(self.plot_path, self.y_preds, self.y_true,\n",
    "                        self.experiments, self.exp_names, self.common_data, variable=\"pr\", title=\"Precipitation\", label=r\"Precipitation [mm.day$^{-1}$]\", figformat=self.figformat, sel_criteria=[\"2020-02-11\"])\n",
    "\n",
    "    def plot_qq(self):\n",
    "        plot_qq(self.plot_path, self.y_preds, self.y_true,\n",
    "                self.experiments, self.exp_names, self.colors_dict, threshold=1, scales=[\"log\"], var_title=\"precipitation\", unit=r\"[mm.day$^{-1}$]\", figformat=self.figformat)\n",
    "\n",
    "    def plot_rx1day(self):\n",
    "        plot_rx1day(self.plot_path, self.df,\n",
    "                    self.common_data['rx1day_true'], self.exp_names, self.colors_dict, figformat=self.figformat)\n",
    "\n",
    "    def plot_distributions_max(self):\n",
    "        plot_distributions_max(self.plot_path, self.y_preds, self.y_true,\n",
    "                                                self.experiments, self.exp_names, self.colors_dict, figformat=self.figformat)\n",
    "\n",
    "    def plot_distributions(self):\n",
    "        plot_distributions(self.plot_path, self.y_preds, self.y_true,\n",
    "                           self.experiments, self.exp_names, self.results, self.colors_dict, var_title=r\"Precipitation\", unit=r\"mm.day$^{-1}$\", emd_unit=\"mm\", log_scale=True, figformat=self.figformat)\n",
    "\n",
    "    def plot_violin_max(self):\n",
    "        plot_violin_max(self.plot_path, self.y_preds, self.y_true,\n",
    "                        self.experiments, self.exp_names, self.colors_dict, figformat=self.figformat)\n",
    "\n",
    "    def plot_div_plot(self):\n",
    "        plot_div_plot(self.plot_path, self.y_preds, self.y_true,\n",
    "                                   self.experiments, self.exp_names, estimation_threshold=10, figformat=self.figformat)\n"
   ]
  },
  {
   "cell_type": "markdown",
   "id": "061338b4",
   "metadata": {
    "vscode": {
     "languageId": "plaintext"
    }
   },
   "source": [
    "### Setup"
   ]
  },
  {
   "cell_type": "code",
   "execution_count": null,
   "id": "3fa5dde2",
   "metadata": {
    "vscode": {
     "languageId": "plaintext"
    }
   },
   "outputs": [],
   "source": [
    "import os, yaml\n",
    "\n",
    "# Load comparison config\n",
    "with open('evaluation/compare_pr.yaml', 'r') as f:\n",
    "    config = yaml.safe_load(f)\n",
    "\n",
    "var_name = config['variable']"
   ]
  },
  {
   "cell_type": "markdown",
   "id": "b6c3f407",
   "metadata": {
    "vscode": {
     "languageId": "plaintext"
    }
   },
   "source": [
    "### Run evaluator for one comparison"
   ]
  },
  {
   "cell_type": "code",
   "execution_count": null,
   "id": "fbf43b6c",
   "metadata": {
    "vscode": {
     "languageId": "plaintext"
    }
   },
   "outputs": [],
   "source": [
    "comparison_title, experiments = list(config['comparisons'].items())[0]\n",
    "\n",
    "evaluator = EvaluatorPr(\n",
    "    experiments,\n",
    "    os.path.join('configs', f'exp_config_{var_name}.yaml'),\n",
    "    var_name,\n",
    "    comparison_title,\n",
    "    **config[\"evaluator_kwargs\"]\n",
    ")\n",
    "evaluator.save_metrics_summary()\n"
   ]
  },
  {
   "cell_type": "markdown",
   "id": "cae1092c",
   "metadata": {
    "vscode": {
     "languageId": "plaintext"
    }
   },
   "source": [
    "### Radar chart"
   ]
  },
  {
   "cell_type": "code",
   "execution_count": null,
   "id": "18596104",
   "metadata": {
    "vscode": {
     "languageId": "plaintext"
    }
   },
   "outputs": [],
   "source": [
    "display(evaluator.df)"
   ]
  },
  {
   "cell_type": "code",
   "execution_count": null,
   "id": "354b4500",
   "metadata": {
    "vscode": {
     "languageId": "plaintext"
    }
   },
   "outputs": [],
   "source": [
    "evaluator.plot_radar_chart(title=None, higher_is_better=True)"
   ]
  },
  {
   "cell_type": "markdown",
   "id": "ec01ed6b",
   "metadata": {
    "vscode": {
     "languageId": "plaintext"
    }
   },
   "source": [
    "### Generate plots"
   ]
  },
  {
   "cell_type": "code",
   "execution_count": null,
   "id": "fd8abac4",
   "metadata": {
    "vscode": {
     "languageId": "plaintext"
    }
   },
   "outputs": [],
   "source": [
    "evaluator.plot_temporal_evolution()\n"
   ]
  },
  {
   "cell_type": "code",
   "execution_count": null,
   "id": "aaf858f4",
   "metadata": {
    "vscode": {
     "languageId": "plaintext"
    }
   },
   "outputs": [],
   "source": [
    "\n",
    "evaluator.plot_qq()\n"
   ]
  },
  {
   "cell_type": "code",
   "execution_count": null,
   "id": "17a455ea",
   "metadata": {
    "vscode": {
     "languageId": "plaintext"
    }
   },
   "outputs": [],
   "source": [
    "\n",
    "evaluator.plot_rx1day()\n"
   ]
  },
  {
   "cell_type": "code",
   "execution_count": null,
   "id": "49d263ca",
   "metadata": {
    "vscode": {
     "languageId": "plaintext"
    }
   },
   "outputs": [],
   "source": [
    "\n",
    "evaluator.plot_div_plot()"
   ]
  },
  {
   "cell_type": "code",
   "execution_count": null,
   "id": "cd20145d",
   "metadata": {
    "vscode": {
     "languageId": "plaintext"
    }
   },
   "outputs": [],
   "source": [
    "\n",
    "evaluator.plot_distributions()\n"
   ]
  },
  {
   "cell_type": "code",
   "execution_count": null,
   "id": "ea211b0b",
   "metadata": {
    "vscode": {
     "languageId": "plaintext"
    }
   },
   "outputs": [],
   "source": [
    "\n",
    "evaluator.plot_distributions_max()\n"
   ]
  },
  {
   "cell_type": "code",
   "execution_count": null,
   "id": "7629c29c",
   "metadata": {
    "vscode": {
     "languageId": "plaintext"
    }
   },
   "outputs": [],
   "source": [
    "\n",
    "evaluator.plot_power_spectra()\n"
   ]
  },
  {
   "cell_type": "code",
   "execution_count": null,
   "id": "15064ba8",
   "metadata": {
    "vscode": {
     "languageId": "plaintext"
    }
   },
   "outputs": [],
   "source": [
    "\n",
    "evaluator.plot_event_zoom()\n"
   ]
  },
  {
   "cell_type": "code",
   "execution_count": null,
   "id": "ccb89e42",
   "metadata": {
    "vscode": {
     "languageId": "plaintext"
    }
   },
   "outputs": [],
   "source": [
    "\n",
    "evaluator.plot_event_full()"
   ]
  }
 ],
 "metadata": {
  "language_info": {
   "name": "python"
  }
 },
 "nbformat": 4,
 "nbformat_minor": 5
}
